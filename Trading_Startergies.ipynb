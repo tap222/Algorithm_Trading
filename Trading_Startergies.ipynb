{
 "cells": [
  {
   "cell_type": "code",
   "execution_count": 1,
   "metadata": {},
   "outputs": [],
   "source": [
    "from pandas_datareader import data as web\n",
    "import pandas as pd\n",
    "import numpy as np\n",
    "from sklearn import mixture as mix\n",
    "import seaborn as sns\n",
    "import matplotlib.pyplot as plt\n",
    "import talib as ta\n",
    "from sklearn.preprocessing import StandardScaler\n",
    "from sklearn.svm import SVC\n",
    "import fix_yahoo_finance"
   ]
  },
  {
   "cell_type": "code",
   "execution_count": 2,
   "metadata": {},
   "outputs": [],
   "source": [
    "#Fetching of data from yahoo finace\n",
    "df = web.get_data_yahoo(\"SPY\",start =\"2000-01-01\",end = \"20-03-2018\")"
   ]
  },
  {
   "cell_type": "code",
   "execution_count": 3,
   "metadata": {},
   "outputs": [
    {
     "data": {
      "text/html": [
       "<div>\n",
       "<style>\n",
       "    .dataframe thead tr:only-child th {\n",
       "        text-align: right;\n",
       "    }\n",
       "\n",
       "    .dataframe thead th {\n",
       "        text-align: left;\n",
       "    }\n",
       "\n",
       "    .dataframe tbody tr th {\n",
       "        vertical-align: top;\n",
       "    }\n",
       "</style>\n",
       "<table border=\"1\" class=\"dataframe\">\n",
       "  <thead>\n",
       "    <tr style=\"text-align: right;\">\n",
       "      <th></th>\n",
       "      <th>date</th>\n",
       "      <th>high</th>\n",
       "      <th>low</th>\n",
       "      <th>open</th>\n",
       "      <th>close</th>\n",
       "      <th>volume</th>\n",
       "      <th>adjclose</th>\n",
       "    </tr>\n",
       "  </thead>\n",
       "  <tbody>\n",
       "    <tr>\n",
       "      <th>0</th>\n",
       "      <td>2018-03-20</td>\n",
       "      <td>271.670013</td>\n",
       "      <td>270.179993</td>\n",
       "      <td>270.940002</td>\n",
       "      <td>270.950012</td>\n",
       "      <td>59757300.0</td>\n",
       "      <td>270.950012</td>\n",
       "    </tr>\n",
       "    <tr>\n",
       "      <th>1</th>\n",
       "      <td>2018-03-19</td>\n",
       "      <td>274.399994</td>\n",
       "      <td>268.619995</td>\n",
       "      <td>273.350006</td>\n",
       "      <td>270.489990</td>\n",
       "      <td>109208400.0</td>\n",
       "      <td>270.489990</td>\n",
       "    </tr>\n",
       "    <tr>\n",
       "      <th>2</th>\n",
       "      <td>2018-03-16</td>\n",
       "      <td>275.390015</td>\n",
       "      <td>274.140015</td>\n",
       "      <td>274.500000</td>\n",
       "      <td>274.200012</td>\n",
       "      <td>100343700.0</td>\n",
       "      <td>274.200012</td>\n",
       "    </tr>\n",
       "    <tr>\n",
       "      <th>4</th>\n",
       "      <td>2018-03-15</td>\n",
       "      <td>276.609985</td>\n",
       "      <td>274.429993</td>\n",
       "      <td>275.880005</td>\n",
       "      <td>275.000000</td>\n",
       "      <td>83433000.0</td>\n",
       "      <td>273.902985</td>\n",
       "    </tr>\n",
       "    <tr>\n",
       "      <th>5</th>\n",
       "      <td>2018-03-14</td>\n",
       "      <td>278.019989</td>\n",
       "      <td>274.670013</td>\n",
       "      <td>277.809998</td>\n",
       "      <td>275.299988</td>\n",
       "      <td>105895100.0</td>\n",
       "      <td>274.201782</td>\n",
       "    </tr>\n",
       "  </tbody>\n",
       "</table>\n",
       "</div>"
      ],
      "text/plain": [
       "         date        high         low        open       close       volume  \\\n",
       "0  2018-03-20  271.670013  270.179993  270.940002  270.950012   59757300.0   \n",
       "1  2018-03-19  274.399994  268.619995  273.350006  270.489990  109208400.0   \n",
       "2  2018-03-16  275.390015  274.140015  274.500000  274.200012  100343700.0   \n",
       "4  2018-03-15  276.609985  274.429993  275.880005  275.000000   83433000.0   \n",
       "5  2018-03-14  278.019989  274.670013  277.809998  275.299988  105895100.0   \n",
       "\n",
       "     adjclose  \n",
       "0  270.950012  \n",
       "1  270.489990  \n",
       "2  274.200012  \n",
       "4  273.902985  \n",
       "5  274.201782  "
      ]
     },
     "execution_count": 3,
     "metadata": {},
     "output_type": "execute_result"
    }
   ],
   "source": [
    "df.head(5)"
   ]
  },
  {
   "cell_type": "code",
   "execution_count": 4,
   "metadata": {},
   "outputs": [],
   "source": [
    "df = df[['open','high','low','close']]"
   ]
  },
  {
   "cell_type": "code",
   "execution_count": 5,
   "metadata": {
    "collapsed": true
   },
   "outputs": [],
   "source": [
    "n = 10 #Look back period of 10 days\n",
    "t = 0.8 #splitting of data into 80:20\n",
    "split = int(t * len(df)) #80% data for training and 20% data for testing"
   ]
  },
  {
   "cell_type": "code",
   "execution_count": 6,
   "metadata": {},
   "outputs": [],
   "source": [
    "df['high'] = df['high'].shift(1) #shifted by 1,to access only past data\n",
    "df['low'] = df['low'].shift(1) #shifted by 1,to access only past data\n",
    "df['close'] = df['close'].shift(1) #shifted by 1,to access only past data\n",
    "df['RSI'] = ta.RSI(np.array(df['close']),timeperiod = n) #Relative Strength Index\n",
    "df['SMA'] = df['close'].rolling(window = n).mean() #simple moving average\n",
    "df['corr'] = df['close'].rolling(window = n).corr(df['close'])#Correlation of data\n",
    "df['SAR'] = ta.SAR(np.array(df['high']),np.array(df['low']),0.2,0.2)#Probalistic SAR to determing the furture short-term momentum\n",
    "df['ADX'] = ta.ADX(np.array(df['high']),np.array(df['low']),np.array(df['close']),timeperiod = n) #Average Directional Index\n",
    "df['Return'] = np.log(df['open']/df['open'].shift(1)) #Return of past day-1 on an open to open basis"
   ]
  },
  {
   "cell_type": "code",
   "execution_count": 7,
   "metadata": {
    "collapsed": true
   },
   "outputs": [],
   "source": [
    "df = df.dropna() #Droping NA values"
   ]
  },
  {
   "cell_type": "code",
   "execution_count": 8,
   "metadata": {},
   "outputs": [
    {
     "data": {
      "text/html": [
       "<div>\n",
       "<style>\n",
       "    .dataframe thead tr:only-child th {\n",
       "        text-align: right;\n",
       "    }\n",
       "\n",
       "    .dataframe thead th {\n",
       "        text-align: left;\n",
       "    }\n",
       "\n",
       "    .dataframe tbody tr th {\n",
       "        vertical-align: top;\n",
       "    }\n",
       "</style>\n",
       "<table border=\"1\" class=\"dataframe\">\n",
       "  <thead>\n",
       "    <tr style=\"text-align: right;\">\n",
       "      <th></th>\n",
       "      <th>open</th>\n",
       "      <th>high</th>\n",
       "      <th>low</th>\n",
       "      <th>close</th>\n",
       "      <th>RSI</th>\n",
       "      <th>SMA</th>\n",
       "      <th>corr</th>\n",
       "      <th>SAR</th>\n",
       "      <th>ADX</th>\n",
       "      <th>Return</th>\n",
       "    </tr>\n",
       "  </thead>\n",
       "  <tbody>\n",
       "    <tr>\n",
       "      <th>21</th>\n",
       "      <td>272.029999</td>\n",
       "      <td>274.720001</td>\n",
       "      <td>269.940002</td>\n",
       "      <td>270.049988</td>\n",
       "      <td>45.656814</td>\n",
       "      <td>272.098996</td>\n",
       "      <td>1.0</td>\n",
       "      <td>277.064014</td>\n",
       "      <td>11.895043</td>\n",
       "      <td>0.000478</td>\n",
       "    </tr>\n",
       "    <tr>\n",
       "      <th>22</th>\n",
       "      <td>272.320007</td>\n",
       "      <td>273.670013</td>\n",
       "      <td>270.500000</td>\n",
       "      <td>271.399994</td>\n",
       "      <td>49.149356</td>\n",
       "      <td>271.950995</td>\n",
       "      <td>1.0</td>\n",
       "      <td>275.579214</td>\n",
       "      <td>10.758720</td>\n",
       "      <td>0.001066</td>\n",
       "    </tr>\n",
       "    <tr>\n",
       "      <th>23</th>\n",
       "      <td>271.570007</td>\n",
       "      <td>275.320007</td>\n",
       "      <td>272.269989</td>\n",
       "      <td>273.109985</td>\n",
       "      <td>53.367317</td>\n",
       "      <td>272.042993</td>\n",
       "      <td>1.0</td>\n",
       "      <td>269.640015</td>\n",
       "      <td>10.537421</td>\n",
       "      <td>-0.002758</td>\n",
       "    </tr>\n",
       "    <tr>\n",
       "      <th>24</th>\n",
       "      <td>264.309998</td>\n",
       "      <td>273.040009</td>\n",
       "      <td>268.769989</td>\n",
       "      <td>273.029999</td>\n",
       "      <td>53.138234</td>\n",
       "      <td>272.437994</td>\n",
       "      <td>1.0</td>\n",
       "      <td>275.320007</td>\n",
       "      <td>10.533801</td>\n",
       "      <td>-0.027097</td>\n",
       "    </tr>\n",
       "    <tr>\n",
       "      <th>25</th>\n",
       "      <td>263.970001</td>\n",
       "      <td>270.000000</td>\n",
       "      <td>264.299988</td>\n",
       "      <td>269.589996</td>\n",
       "      <td>44.093561</td>\n",
       "      <td>272.626993</td>\n",
       "      <td>1.0</td>\n",
       "      <td>275.320007</td>\n",
       "      <td>12.314819</td>\n",
       "      <td>-0.001287</td>\n",
       "    </tr>\n",
       "  </tbody>\n",
       "</table>\n",
       "</div>"
      ],
      "text/plain": [
       "          open        high         low       close        RSI         SMA  \\\n",
       "21  272.029999  274.720001  269.940002  270.049988  45.656814  272.098996   \n",
       "22  272.320007  273.670013  270.500000  271.399994  49.149356  271.950995   \n",
       "23  271.570007  275.320007  272.269989  273.109985  53.367317  272.042993   \n",
       "24  264.309998  273.040009  268.769989  273.029999  53.138234  272.437994   \n",
       "25  263.970001  270.000000  264.299988  269.589996  44.093561  272.626993   \n",
       "\n",
       "    corr         SAR        ADX    Return  \n",
       "21   1.0  277.064014  11.895043  0.000478  \n",
       "22   1.0  275.579214  10.758720  0.001066  \n",
       "23   1.0  269.640015  10.537421 -0.002758  \n",
       "24   1.0  275.320007  10.533801 -0.027097  \n",
       "25   1.0  275.320007  12.314819 -0.001287  "
      ]
     },
     "execution_count": 8,
     "metadata": {},
     "output_type": "execute_result"
    }
   ],
   "source": [
    "df.head()"
   ]
  },
  {
   "cell_type": "code",
   "execution_count": 9,
   "metadata": {},
   "outputs": [],
   "source": [
    "ss = StandardScaler() #normalize the data by using standardization\n",
    "#More information rgarding the model https://brilliant.org/wiki/gaussian-mixture-model/\n",
    "unsup = mix.GaussianMixture(n_components=4,covariance_type=\"spherical\",n_init=100,random_state=42)\n",
    "unsup.fit(np.reshape(ss.fit_transform(df[:split]),(-1,df.shape[1])))#transformation of data\n",
    "regime = unsup.predict(np.reshape(ss.fit_transform(df[split:]),(-1,df.shape[1]))) #predicted using unsupervised algorithm\n",
    "Regimes = pd.DataFrame(regime,columns=['Regime'],index=df[split:].index).join(df[split:],how = 'inner').assign(market_cu_return = df[split:]\n",
    "                               .Return.cumsum()).reset_index(drop=False).rename(columns ={'index':'Date'}) #save the prediction result"
   ]
  },
  {
   "cell_type": "code",
   "execution_count": 10,
   "metadata": {},
   "outputs": [
    {
     "data": {
      "image/png": "[encoded data removed]",
      "text/plain": [
       "<matplotlib.figure.Figure at 0x7f962e7b5128>"
      ]
     },
     "metadata": {},
     "output_type": "display_data"
    },
    {
     "name": "stdout",
     "output_type": "stream",
     "text": [
      "Mean of regime 0:  1.3237689530571084\n",
      "Covariance for regim 0:  0.48085096144636064\n",
      "Mean of regime 1:  -0.9995828346781248\n",
      "Covariance for regim 1:  0.8920362453145858\n",
      "Mean of regime 2:  -0.5353770744488126\n",
      "Covariance for regim 2:  0.27157540222486526\n",
      "Mean of regime 3:  -0.4524696346336615\n",
      "Covariance for regim 3:  0.22484947147236886\n"
     ]
    }
   ],
   "source": [
    "#Graph of different Regimes of mean and variance\n",
    "order = [0,1,2,3]\n",
    "fig = sns.FacetGrid(data=Regimes,hue='Regime',hue_order=order,aspect=2,size=4)\n",
    "fig.map(plt.scatter,'Date','market_cu_return',s=4).add_legend()\n",
    "plt.show()\n",
    "for i in order:\n",
    "    print('Mean of regime %i: '%i,unsup.means_[i][0])\n",
    "    print('Covariance for regim %i: '%i,(unsup.covariances_[i]))"
   ]
  },
  {
   "cell_type": "code",
   "execution_count": 11,
   "metadata": {},
   "outputs": [],
   "source": [
    "#scaled the Regimes data frame, excluding the Date and Regimes columns, created in the earlier\n",
    "ss1 = StandardScaler()\n",
    "columns = Regimes.columns.drop(['Regime','Date'])\n",
    "Regimes[columns] = ss1.fit_transform(Regimes[columns])\n",
    "#signal column which would act as the prediction values\n",
    "Regimes['Signal']=0 \n",
    "Regimes.loc[Regimes['Return']>0,'Signal'] = 1\n",
    "Regimes.loc[Regimes['Return']<0,'Signal'] = -1"
   ]
  },
  {
   "cell_type": "code",
   "execution_count": 12,
   "metadata": {
    "collapsed": true
   },
   "outputs": [],
   "source": [
    "#Support vector classifier and we do not optimized this support vector classifier for best hyper parameters.\n",
    "cls = SVC(C= 1.0,cache_size=200,class_weight = None,coef0= 0.0,\n",
    "           decision_function_shape=None,degree=3,gamma='auto',kernel='rbf',\n",
    "           max_iter=-1,probability=False,random_state=None,shrinking=True,\n",
    "           tol=0.001,verbose=False)"
   ]
  },
  {
   "cell_type": "code",
   "execution_count": 13,
   "metadata": {},
   "outputs": [
    {
     "data": {
      "text/plain": [
       "SVC(C=1.0, cache_size=200, class_weight=None, coef0=0.0,\n",
       "  decision_function_shape=None, degree=3, gamma='auto', kernel='rbf',\n",
       "  max_iter=-1, probability=False, random_state=None, shrinking=True,\n",
       "  tol=0.001, verbose=False)"
      ]
     },
     "execution_count": 13,
     "metadata": {},
     "output_type": "execute_result"
    }
   ],
   "source": [
    "#split the test data of the unsupervised regime algorithm into train and test data\n",
    "split2 = int(0.8*len(Regimes))\n",
    "X = Regimes.drop(['Signal','Return','market_cu_return','Date'],axis =1)\n",
    "y = Regimes['Signal']\n",
    "cls.fit(X[:split2],y[:split2]) #fit the X and y data sets to the algorithm to train"
   ]
  },
  {
   "cell_type": "code",
   "execution_count": 14,
   "metadata": {
    "collapsed": true
   },
   "outputs": [],
   "source": [
    "# calculated the test set size and indexed the predictions\n",
    "p_data = len(X)-split2"
   ]
  },
  {
   "cell_type": "code",
   "execution_count": 15,
   "metadata": {},
   "outputs": [
    {
     "name": "stdout",
     "output_type": "stream",
     "text": [
      "4475    1\n",
      "4477   -1\n",
      "4479   -1\n",
      "4480   -1\n",
      "4481   -1\n",
      "4482   -1\n",
      "4483   -1\n",
      "4484   -1\n",
      "4485   -1\n",
      "4486   -1\n",
      "4487   -1\n",
      "4488   -1\n",
      "4489   -1\n",
      "4490   -1\n",
      "4491   -1\n",
      "4492   -1\n",
      "4493   -1\n",
      "4494   -1\n",
      "4495   -1\n",
      "4496   -1\n",
      "4497   -1\n",
      "4498   -1\n",
      "4499    1\n",
      "4500   -1\n",
      "4501   -1\n",
      "4502    1\n",
      "4503    1\n",
      "4504    1\n",
      "4505   -1\n",
      "4506   -1\n",
      "       ..\n",
      "4629   -1\n",
      "4630   -1\n",
      "4631   -1\n",
      "4632   -1\n",
      "4633   -1\n",
      "4634   -1\n",
      "4635   -1\n",
      "4636   -1\n",
      "4637   -1\n",
      "4638   -1\n",
      "4639    1\n",
      "4640    1\n",
      "4641   -1\n",
      "4642   -1\n",
      "4643   -1\n",
      "4644    1\n",
      "4645   -1\n",
      "4646   -1\n",
      "4647   -1\n",
      "4648   -1\n",
      "4649   -1\n",
      "4650   -1\n",
      "4651   -1\n",
      "4652   -1\n",
      "4653   -1\n",
      "4654   -1\n",
      "4655    1\n",
      "4656    1\n",
      "4657    1\n",
      "4658   -1\n",
      "Name: Pred_signal, Length: 180, dtype: int64\n"
     ]
    }
   ],
   "source": [
    "#based on these signals I calculated the returns of the strategy by multiplying signal at the beginning of the \n",
    "#day with the return at the opening ( because our returns are from open to open) of the next day.\n",
    "df['Pred_signal'] = 0\n",
    "df.iloc[-p_data:,df.columns.get_loc('Pred_signal')] = cls.predict(X[split2:])\n",
    "print(df['Pred_signal'][-p_data:])\n",
    "df['str_ret'] = df['Pred_signal'] * df['Return'].shift(-1)"
   ]
  },
  {
   "cell_type": "code",
   "execution_count": 16,
   "metadata": {
    "collapsed": true
   },
   "outputs": [],
   "source": [
    "#1.calculated the cumulative strategy returns and the cumulative market returns and saved them in df. \n",
    "#2.calculated the sharpe ratio to measure the performance.\n",
    "df['strategy_cu_return'] = 0.0\n",
    "df['market_cu_return'] = 0.0\n",
    "df.iloc[-p_data:,df.columns.get_loc('strategy_cu_return')] = np.nancumsum(df['str_ret'][-p_data:])\n",
    "df.iloc[-p_data:,df.columns.get_loc('market_cu_return')] = np.nancumsum(df['Return'][-p_data:])\n",
    "Sharpe = (df['strategy_cu_return'].iloc[-1]-df['market_cu_return'].iloc[-1])/np.nanstd(df['strategy_cu_return'][-p_data:])"
   ]
  },
  {
   "cell_type": "code",
   "execution_count": 17,
   "metadata": {},
   "outputs": [
    {
     "data": {
      "image/png": "[encoded data removed]",
      "text/plain": [
       "<matplotlib.figure.Figure at 0x7f962e81b550>"
      ]
     },
     "metadata": {},
     "output_type": "display_data"
    }
   ],
   "source": [
    "plt.plot(df['strategy_cu_return'][-p_data:],color='g',label='Strategy Returns')\n",
    "plt.plot(df['market_cu_return'][-p_data:],color='r',label='Market_Returns')\n",
    "plt.figtext(0.14,0.9,s='Sharpe ratio %.2f'%Sharpe)\n",
    "plt.legend(loc='best')\n",
    "plt.show()"
   ]
  }
 ],
 "metadata": {
  "kernelspec": {
   "display_name": "Python 3",
   "language": "python",
   "name": "python3"
  },
  "language_info": {
   "codemirror_mode": {
    "name": "ipython",
    "version": 3
   },
   "file_extension": ".py",
   "mimetype": "text/x-python",
   "name": "python",
   "nbconvert_exporter": "python",
   "pygments_lexer": "ipython3",
   "version": "3.6.2"
  }
 },
 "nbformat": 4,
 "nbformat_minor": 2
}
